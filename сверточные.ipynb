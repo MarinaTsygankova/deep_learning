{
 "cells": [
  {
   "cell_type": "markdown",
   "id": "23376ede-b22d-417c-af06-7597cad38fd9",
   "metadata": {},
   "source": [
    "### Задание\n",
    "Постройте модель, используя архитектуру со свёрточными слоями, для классификации Fashion MNIST. Итоговое качество (accuracy) должно быть не ниже 89,5.\n",
    "\n",
    "Инструкция по выполнению задания. \n",
    "\n",
    "1. Скачайте тренировочную и тестовою часть датасета Fashion MNIST\n",
    "2. Постройте архитектуру модели, используя свёрточные слои, слои регуляризации и один финальный полносвязный слой\n",
    "3. Обучите модель до необходимого качества. Если сеть не обучается до необходимого качества, попробуйте поменять архитектуру сети, варьируя параметры свёрток, количество каналов, количество свёрточных слоёв, слои регуляризации, тип оптимайзера и т. д."
   ]
  },
  {
   "cell_type": "code",
   "execution_count": 126,
   "id": "7b96fab6-432b-4e9f-a82f-9379032e92fe",
   "metadata": {},
   "outputs": [],
   "source": [
    "import matplotlib.pyplot as plt\n",
    "%matplotlib inline\n",
    "\n",
    "import torch\n",
    "import numpy as np\n",
    "import pandas as pd\n",
    "import torchvision as tv\n",
    "import torchvision.transforms as transforms\n",
    "import time\n",
    "from torchsummary import summary"
   ]
  },
  {
   "cell_type": "code",
   "execution_count": 2,
   "id": "3fe76582-6d0d-45f9-b017-35d9f34a93f8",
   "metadata": {},
   "outputs": [],
   "source": [
    "BATCH_SIZE=128\n",
    "train_dataset = tv.datasets.FashionMNIST('.', train=True, transform=tv.transforms.ToTensor(), download=True)\n",
    "test_dataset = tv.datasets.FashionMNIST('.', train=False, transform=tv.transforms.ToTensor(), download=True)\n",
    "train = torch.utils.data.DataLoader(train_dataset, batch_size=BATCH_SIZE)\n",
    "test = torch.utils.data.DataLoader(test_dataset, batch_size=BATCH_SIZE)"
   ]
  },
  {
   "cell_type": "code",
   "execution_count": 89,
   "id": "9448f4b7-80d4-475a-a1f7-569097589b03",
   "metadata": {},
   "outputs": [],
   "source": [
    "def train_model():\n",
    "    loss = torch.nn.CrossEntropyLoss()\n",
    "    for ep in range(num_epochs):\n",
    "        train_iters, train_passed  = 0, 0\n",
    "        train_loss, train_acc = 0., 0.\n",
    "        start=time.time()\n",
    "        \n",
    "        model.train()\n",
    "        for X, y in train:\n",
    "            trainer.zero_grad()\n",
    "            y_pred = model(X)\n",
    "            l = loss(y_pred, y)\n",
    "            l.backward()\n",
    "            trainer.step()\n",
    "            train_loss += l.item()\n",
    "            train_acc += (y_pred.argmax(dim=1) == y).sum().item()\n",
    "            train_iters += 1\n",
    "            train_passed += len(X)\n",
    "        \n",
    "        test_iters, test_passed  = 0, 0\n",
    "        test_loss, test_acc = 0., 0.\n",
    "        model.eval()\n",
    "        for X, y in test:\n",
    "            y_pred = model(X)\n",
    "            l = loss(y_pred, y)\n",
    "            test_loss += l.item()\n",
    "            test_acc += (y_pred.argmax(dim=1) == y).sum().item()\n",
    "            test_iters += 1\n",
    "            test_passed += len(X)\n",
    "            \n",
    "        print(\"ep: {}, taked: {:.3f}, train_loss: {}, train_acc: {}, test_loss: {}, test_acc: {}\".format(\n",
    "            ep, time.time() - start, round(train_loss / train_iters, 3), round(train_acc / train_passed, 4),\n",
    "            round(test_loss / test_iters, 3), test_acc / test_passed)\n",
    "        )"
   ]
  },
  {
   "cell_type": "code",
   "execution_count": 150,
   "id": "4512ab2e-7fbb-47fe-85cc-7fb8375c9439",
   "metadata": {},
   "outputs": [
    {
     "name": "stdout",
     "output_type": "stream",
     "text": [
      "----------------------------------------------------------------\n",
      "        Layer (type)               Output Shape         Param #\n",
      "================================================================\n",
      "            Conv2d-1            [-1, 6, 24, 24]              60\n",
      "         MaxPool2d-2            [-1, 6, 12, 12]               0\n",
      "            Conv2d-3           [-1, 32, 12, 12]           1,760\n",
      "         MaxPool2d-4             [-1, 32, 6, 6]               0\n",
      "            Conv2d-5             [-1, 64, 4, 4]          51,264\n",
      "         AvgPool2d-6             [-1, 64, 2, 2]               0\n",
      "           Flatten-7                  [-1, 256]               0\n",
      "            Linear-8                   [-1, 64]          16,448\n",
      "              ReLU-9                   [-1, 64]               0\n",
      "      BatchNorm1d-10                   [-1, 64]             128\n",
      "           Linear-11                   [-1, 10]             650\n",
      "================================================================\n",
      "Total params: 70,310\n",
      "Trainable params: 70,310\n",
      "Non-trainable params: 0\n",
      "----------------------------------------------------------------\n",
      "Input size (MB): 0.00\n",
      "Forward/backward pass size (MB): 0.09\n",
      "Params size (MB): 0.27\n",
      "Estimated Total Size (MB): 0.36\n",
      "----------------------------------------------------------------\n"
     ]
    }
   ],
   "source": [
    "model = torch.nn.Sequential(\n",
    "    torch.nn.Conv2d(1, 6, kernel_size=3, padding=1),\n",
    "    torch.nn.MaxPool2d(2),\n",
    "    torch.nn.Conv2d(6, 32, kernel_size=3, padding=1),\n",
    "    torch.nn.MaxPool2d(2, stride=2),\n",
    "    torch.nn.Conv2d(32, 64, kernel_size=5, padding=1),\n",
    "    torch.nn.AvgPool2d(2, stride=2),\n",
    "    torch.nn.Flatten(),\n",
    "    torch.nn.Linear(256, 64),\n",
    "    torch.nn.ReLU(),\n",
    "    torch.nn.BatchNorm1d(64),\n",
    "    torch.nn.Linear(64, 10)\n",
    ")\n",
    "summary(model, input_size=(1, 24, 24), device='cpu')"
   ]
  },
  {
   "cell_type": "code",
   "execution_count": 163,
   "id": "2a3fbf2b-4ed5-415a-ae5b-c7fdd0622d91",
   "metadata": {},
   "outputs": [],
   "source": [
    "trainer = torch.optim.ASGD(model.parameters(), lr=.01)\n",
    "num_epochs = 10"
   ]
  },
  {
   "cell_type": "code",
   "execution_count": 164,
   "id": "e99da6cc-3c96-4ae8-81c9-1885b3dee931",
   "metadata": {},
   "outputs": [
    {
     "name": "stdout",
     "output_type": "stream",
     "text": [
      "ep: 0, taked: 15.500, train_loss: 0.284, train_acc: 0.8988, test_loss: 0.321, test_acc: 0.8848\n",
      "ep: 1, taked: 15.226, train_loss: 0.271, train_acc: 0.9031, test_loss: 0.314, test_acc: 0.8864\n",
      "ep: 2, taked: 15.760, train_loss: 0.265, train_acc: 0.9053, test_loss: 0.312, test_acc: 0.8876\n",
      "ep: 3, taked: 15.050, train_loss: 0.262, train_acc: 0.9066, test_loss: 0.309, test_acc: 0.8887\n",
      "ep: 4, taked: 15.711, train_loss: 0.259, train_acc: 0.908, test_loss: 0.307, test_acc: 0.8908\n",
      "ep: 5, taked: 15.355, train_loss: 0.256, train_acc: 0.9087, test_loss: 0.306, test_acc: 0.8917\n",
      "ep: 6, taked: 15.819, train_loss: 0.255, train_acc: 0.9093, test_loss: 0.304, test_acc: 0.8927\n",
      "ep: 7, taked: 15.133, train_loss: 0.253, train_acc: 0.9099, test_loss: 0.303, test_acc: 0.893\n",
      "ep: 8, taked: 15.758, train_loss: 0.251, train_acc: 0.9105, test_loss: 0.302, test_acc: 0.8931\n",
      "ep: 9, taked: 15.396, train_loss: 0.25, train_acc: 0.911, test_loss: 0.302, test_acc: 0.8932\n"
     ]
    }
   ],
   "source": [
    "train_model()"
   ]
  },
  {
   "cell_type": "code",
   "execution_count": null,
   "id": "d0c2fbc5-a4e2-4084-b6dd-2af4a9a6dae6",
   "metadata": {},
   "outputs": [],
   "source": []
  },
  {
   "cell_type": "code",
   "execution_count": null,
   "id": "61aef716-384c-4140-9f1b-19b22f972cd1",
   "metadata": {},
   "outputs": [],
   "source": []
  }
 ],
 "metadata": {
  "kernelspec": {
   "display_name": "Python 3 (ipykernel)",
   "language": "python",
   "name": "python3"
  },
  "language_info": {
   "codemirror_mode": {
    "name": "ipython",
    "version": 3
   },
   "file_extension": ".py",
   "mimetype": "text/x-python",
   "name": "python",
   "nbconvert_exporter": "python",
   "pygments_lexer": "ipython3",
   "version": "3.10.6"
  }
 },
 "nbformat": 4,
 "nbformat_minor": 5
}
